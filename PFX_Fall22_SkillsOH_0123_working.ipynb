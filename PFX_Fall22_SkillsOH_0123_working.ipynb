{
 "cells": [
  {
   "cell_type": "markdown",
   "id": "997b54bd",
   "metadata": {
    "nbgrader": {
     "grade": false,
     "locked": true,
     "solution": false
    },
    "tags": [
     "notebook_header"
    ]
   },
   "source": [
    "# `Final Exam`, `Fall 2022`: `Time Series Analysis of US Inflation`\n",
    "_Version 1.0.1_\n",
    "\n",
    "Change history:   \n",
    "1.0.1 - bugfix ex2 test code.  \n",
    "1.0 - initial release  \n",
    "\n",
    "*All of the header information is important. Please read it..*\n",
    "\n",
    "**Topics, number of exercises:** This problem builds on your knowledge of Pandas, Numpy, basic Python data structures, and implementing mathematical functions. It has **9** exercises, numbered 0 to **8**. There are **18** available points. However, to earn 100% the threshold is **13** points. (Therefore, once you hit **13** points, you can stop. There is no extra credit for exceeding this threshold.)\n",
    "\n",
    "**Exercise ordering:** Each exercise builds logically on previous exercises, but you may solve them in any order. That is, if you can't solve an exercise, you can still move on and try the next one. Use this to your advantage, as the exercises are **not** necessarily ordered in terms of difficulty. Higher point values generally indicate more difficult exercises. \n",
    "\n",
    "**Demo cells:** Code cells starting with the comment `### define demo inputs` load results from prior exercises applied to the entire data set and use those to build demo inputs. These must be run for subsequent demos to work properly, but they do not affect the test cells. The data loaded in these cells may be rather large (at least in terms of human readability). You are free to print or otherwise use Python to explore them, but we did not print them in the starter code.\n",
    "\n",
    "**Debugging your code:** Right before each exercise test cell, there is a block of text explaining the variables available to you for debugging. You may use these to test your code and can print/display them as needed (careful when printing large objects, you may want to print the head or chunks of rows at a time).\n",
    "\n",
    "**Exercise point breakdown:**\n",
    "\n",
    "- Exercise 0: **1** point(s)\n",
    "- Exercise 1: **1** point(s)\n",
    "- Exercise 2: **2** point(s)\n",
    "- Exercise 3: **2** point(s)\n",
    "- Exercise 4: **2** point(s)\n",
    "- Exercise 5: **2** point(s)\n",
    "- Exercise 6: **2** point(s)\n",
    "- Exercise 7: **3** point(s)\n",
    "- Exercise 8: **3** point(s)\n",
    "\n",
    "**Final reminders:** \n",
    "\n",
    "- Submit after **every exercise**\n",
    "- Review the generated grade report after you submit to see what errors were returned\n",
    "- Stay calm, skip problems as needed, and take short breaks at your leisure\n"
   ]
  },
  {
   "cell_type": "markdown",
   "id": "b0f0ecc3",
   "metadata": {
    "nbgrader": {
     "grade": false,
     "locked": true,
     "solution": false
    },
    "tags": [
     "topic_intro"
    ]
   },
   "source": [
    "## Background Inflation\n",
    "\n",
    "Inflation is an increase in overall prices in an economy over time. Deflation is \"negative inflation\", a decrease in prices over time. A common way to measure inflation is to first calculate the CPI (price of a representative basket of goods), then compute the difference in CPI over a time interval. In other words if the CPI is 100 at one point in time, and the CPI is 105 one year later then we would say that the inflation rate over that year was 5%.\n",
    "\n",
    "## Data\n",
    "\n",
    "We have obtained the US CPI for each month going back to the early 20th century from The Organisation for Economic Co-operation and Development. \n",
    "\n",
    "## Analysis goals\n",
    "- Use the CPI data to calculate the inflation rate at any point in history over an arbitrary number of months.\n",
    "- Attempt to predict the inflation rate in future months based on the inflation rate in previous months using exponential smoothing models.\n",
    "    - Evaluate how \"good\" the predictions are.\n",
    "    - Tune the models to pick the best parameters.\n",
    "    - Make inferences based on the selected parameters."
   ]
  },
  {
   "cell_type": "code",
   "execution_count": null,
   "id": "dbf8340c",
   "metadata": {
    "nbgrader": {
     "grade": false,
     "locked": true,
     "solution": false
    },
    "tags": [
     "global_imports"
    ]
   },
   "outputs": [],
   "source": [
    "### Global Imports\n",
    "import pandas as pd\n",
    "import numpy as np\n",
    "import pickle\n",
    "from matplotlib import pyplot as plt"
   ]
  },
  {
   "cell_type": "markdown",
   "id": "6d4a9824",
   "metadata": {
    "nbgrader": {
     "grade": false,
     "locked": true,
     "solution": false
    },
    "tags": [
     "exercise_text"
    ]
   },
   "source": [
    "## Exercise 0 - (**1** Points): \n",
    "To start things off we will load the CPI data into the notebook environment. You do not need to modify the cell below, just execute the test and collect your free point!\n",
    "\n",
    "This cell will also display the first few rows and last few rows of the CPI data we just loaded."
   ]
  },
  {
   "cell_type": "code",
   "execution_count": null,
   "id": "f77aa46c",
   "metadata": {
    "nbgrader": {
     "grade": false,
     "locked": true,
     "solution": false
    },
    "tags": [
     "exercise_solution"
    ]
   },
   "outputs": [],
   "source": [
    "cpi_all_df = pd.read_csv('cpi_urban_all.csv')\n",
    "display(cpi_all_df.head())\n",
    "display(cpi_all_df.tail())"
   ]
  },
  {
   "cell_type": "markdown",
   "id": "a61de83f",
   "metadata": {
    "nbgrader": {
     "grade": false,
     "locked": true,
     "solution": false
    },
    "tags": [
     "test_data_boilerplate"
    ]
   },
   "source": [
    "<!-- Test Cell Boilerplate -->\n",
    "The cell below will test your solution for Exercise 0. The testing variables will be available for debugging under the following names in a dictionary format.\n",
    "- `input_vars` - Input variables for your solution. \n",
    "- `original_input_vars` - Copy of input variables from prior to running your solution. These _should_ be the same as `input_vars` - otherwise the inputs were modified by your solution.\n",
    "- `returned_output_vars` - Outputs returned by your solution.\n",
    "- `true_output_vars` - The expected output. This _should_ \"match\" `returned_output_vars` based on the question requirements - otherwise, your solution is not returning the correct output. "
   ]
  },
  {
   "cell_type": "code",
   "execution_count": null,
   "id": "65fa5310",
   "metadata": {
    "nbgrader": {
     "grade": true,
     "grade_id": "ex0",
     "locked": true,
     "points": "1",
     "solution": false
    },
    "tags": []
   },
   "outputs": [],
   "source": [
    "### test_cell_ex0\n",
    "assert 'cpi_all_df' in globals()\n",
    "assert isinstance(cpi_all_df, pd.DataFrame)\n",
    "print('Passed! Please submit.')"
   ]
  },
  {
   "cell_type": "markdown",
   "id": "1b1903fe",
   "metadata": {
    "nbgrader": {
     "grade": false,
     "locked": true,
     "solution": false
    },
    "tags": [
     "exercise_text"
    ]
   },
   "source": [
    "## Exercise 1 - (**1** Points): \n",
    "The raw data needs some light cleaning. There are some columns which we do not need for analysis, some of the numerical columns have blanks, and (due to the blanks) some numerical columns are the wrong type. We need to correct these issues before moving forward.\n",
    "\n",
    "Define the function `cleanup_df(df, drop_cols)`. Input `df` is a DataFrame and `drop_cols` is a list of column names **which may or may not** appear in `df`. \n",
    "\n",
    "Your function should return a new DataFrame having the same contents as `df` with the following exceptions:  \n",
    "- All columns included in `drop_cols` should be dropped.  \n",
    "    - Your function **should not** raise an error if a column in `drop_cols` does not appear in `df`.\n",
    "- All cells which contain the value `' '` should be replaced with `np.nan`.\n",
    "- All columns with month abbreviations for names (`Jan, Feb, Mar, Apr, May, Jun, Jul, Aug, Sep, Oct, Nov, Dec`) should be converted to `float64`.\n"
   ]
  },
  {
   "cell_type": "code",
   "execution_count": null,
   "id": "2992d334",
   "metadata": {
    "nbgrader": {
     "grade": false,
     "locked": true,
     "solution": false
    },
    "tags": [
     "demo_data"
    ]
   },
   "outputs": [],
   "source": [
    "### Define demo inputs\n",
    "demo_df_ex1 = cpi_all_df.tail().reset_index(drop=True)\n",
    "display(demo_df_ex1)\n",
    "demo_drop_cols_ex1 = ['HALF1', 'HALF2', 'THIS COLUMN DOESN\\'T EXIST']"
   ]
  },
  {
   "cell_type": "markdown",
   "id": "d5c912e4",
   "metadata": {
    "nbgrader": {
     "grade": false,
     "locked": true,
     "solution": false
    },
    "tags": [
     "demo_output_md"
    ]
   },
   "source": [
    "<!-- Expected demo output text block -->\n",
    "The demo included in the solution cell below should display the following output:\n",
    "  \n",
    "|    |   Year |     Jan |     Feb |     Mar |     Apr |     May |     Jun |     Jul |     Aug |     Sep |     Oct |     Nov |     Dec |  \n",
    "|---:|-------:|--------:|--------:|--------:|--------:|--------:|--------:|--------:|--------:|--------:|--------:|--------:|--------:|  \n",
    "|  0 |   2018 | 247.867 | 248.991 | 249.554 | 250.546 | 251.588 | 251.989 | 252.006 | 252.146 | 252.439 | 252.885 | 252.038 | 251.233 |  \n",
    "|  1 |   2019 | 251.712 | 252.776 | 254.202 | 255.548 | 256.092 | 256.143 | 256.571 | 256.558 | 256.759 | 257.346 | 257.208 | 256.974 |  \n",
    "|  2 |   2020 | 257.971 | 258.678 | 258.115 | 256.389 | 256.394 | 257.797 | 259.101 | 259.918 | 260.28  | 260.388 | 260.229 | 260.474 |  \n",
    "|  3 |   2021 | 261.582 | 263.014 | 264.877 | 267.054 | 269.195 | 271.696 | 273.003 | 273.567 | 274.31  | 276.589 | 277.948 | 278.802 |  \n",
    "|  4 |   2022 | 281.148 | 283.716 | 287.504 | 289.109 | 292.296 | 296.311 | 296.276 | 296.171 | 296.808 | 298.012 | NaN     | NaN     |\n",
    "\n",
    "Notice:  \n",
    "- The columns 'HALF1' and 'HALF2' were dropped.\n",
    "- There was no error for trying to drop 'THIS COLUMN DOESN'T EXIST' which does not exist in `df`.\n",
    "- The blanks are replaced with `np.nan` (which displays as 'NaN'). FYI `np.nan` is a `float`.\n",
    "\n",
    "Notes:\n",
    "- Check the `dtypes` attribute of your result. Columns which are months ('Jan', 'Feb', ...) should be `float64`. Any other remaining columns should have the same `dtype` as the original column in the input."
   ]
  },
  {
   "cell_type": "code",
   "execution_count": null,
   "id": "0592599e",
   "metadata": {
    "tags": [
     "exercise_solution"
    ]
   },
   "outputs": [],
   "source": [
    "### Exercise 1 solution\n",
    "def cleanup_df(df, drop_cols):\n",
    "    ### YOUR CODE HERE\n",
    "    \n",
    "### demo function call\n",
    "demo_output_ex1 = cleanup_df(demo_df_ex1, demo_drop_cols_ex1)\n",
    "display(demo_output_ex1)"
   ]
  },
  {
   "cell_type": "markdown",
   "id": "e0e2d223",
   "metadata": {
    "nbgrader": {
     "grade": false,
     "locked": true,
     "solution": false
    },
    "tags": [
     "test_data_boilerplate"
    ]
   },
   "source": [
    "<!-- Test Cell Boilerplate -->\n",
    "The cell below will test your solution for Exercise 1. The testing variables will be available for debugging under the following names in a dictionary format.\n",
    "- `input_vars` - Input variables for your solution. \n",
    "- `original_input_vars` - Copy of input variables from prior to running your solution. These _should_ be the same as `input_vars` - otherwise the inputs were modified by your solution.\n",
    "- `returned_output_vars` - Outputs returned by your solution.\n",
    "- `true_output_vars` - The expected output. This _should_ \"match\" `returned_output_vars` based on the question requirements - otherwise, your solution is not returning the correct output. "
   ]
  },
  {
   "cell_type": "code",
   "execution_count": null,
   "id": "5ad98e74",
   "metadata": {
    "nbgrader": {
     "grade": true,
     "grade_id": "ex1",
     "locked": true,
     "points": "1",
     "solution": false
    },
    "tags": []
   },
   "outputs": [],
   "source": [
    "### test_cell_ex1\n",
    "from tester_fw.testers import Tester\n",
    "\n",
    "conf = {\n",
    "    'case_file':'tc_1', \n",
    "    'func': cleanup_df, # replace this with the function defined above\n",
    "    'inputs':{ # input config dict. keys are parameter names\n",
    "        'df':{\n",
    "            'dtype':'pd.DataFrame', # data type of param.\n",
    "            'check_modified':True,\n",
    "        },\n",
    "        'drop_cols':{\n",
    "            'dtype':'list', # data type of param.\n",
    "            'check_modified':True,\n",
    "        }\n",
    "    },\n",
    "    'outputs':{\n",
    "        'output_0':{\n",
    "            'index':0,\n",
    "            'dtype':'pd.DataFrame',\n",
    "            'check_dtype': True,\n",
    "            'check_col_dtypes': True, # Ignored if dtype is not df\n",
    "            'check_col_order': True, # Ignored if dtype is not df\n",
    "            'check_row_order': True, # Ignored if dtype is not df\n",
    "            'check_column_type': True, # Ignored if dtype is not df\n",
    "            'float_tolerance': 10 ** (-10)\n",
    "        }\n",
    "    }\n",
    "}\n",
    "tester = Tester(conf, key=b'z0BNF11iKYQicR63590bVXZGa19YGvJcmzrbP6R7oAY=', path='')\n",
    "for _ in range(70):\n",
    "    try:\n",
    "        tester.run_test()\n",
    "        (input_vars, original_input_vars, returned_output_vars, true_output_vars) = tester.get_test_vars()\n",
    "    except:\n",
    "        (input_vars, original_input_vars, returned_output_vars, true_output_vars) = tester.get_test_vars()\n",
    "        raise\n",
    "\n",
    "print('Passed! Please submit.')"
   ]
  },
  {
   "cell_type": "markdown",
   "id": "673d58fb",
   "metadata": {
    "nbgrader": {
     "grade": false,
     "locked": true,
     "solution": false
    },
    "tags": [
     "exercise_text"
    ]
   },
   "source": [
    "## Exercise 2 - (**2** Points): \n",
    "To complete our time series analysis we need to reshape the data into a proper time series. By using earlier functions we are able to pare down the data into this form:\n",
    "\n",
    "|    |   Year |     Jan |     Feb |     Mar |     Apr |     May |     Jun |     Jul |     Aug |     Sep |     Oct |     Nov |     Dec |  \n",
    "|---:|-------:|--------:|--------:|--------:|--------:|--------:|--------:|--------:|--------:|--------:|--------:|--------:|--------:|  \n",
    "|  2 |   2020 | 257.971 | 258.678 | 258.115 | 256.389 | 256.394 | 257.797 | 259.101 | 259.918 | 260.28  | 260.388 | 260.229 | 260.474 |  \n",
    "|  3 |   2021 | 261.582 | 263.014 | 264.877 | 267.054 | 269.195 | 271.696 | 273.003 | 273.567 | 274.31  | 276.589 | 277.948 | 278.802 |  \n",
    "|  4 |   2022 | 281.148 | 283.716 | 287.504 | 289.109 | 292.296 | 296.311 | 296.276 | 296.171 | 296.808 | 298.012 | NaN     | NaN     |  \n",
    "\n",
    "We want to further transform it into a single dimension in chronological order. (i.e. all the data points for 2020 followed by all the data points for 2021 followed by all the data points for 2022.)\n",
    "\n",
    "**Note**: In the example above there are no records for November and December of 2022 (because they have not concluded at the writing of this exam).  \n",
    "- For most months out of the year there will be missing values _at the end_ of the time interval.  \n",
    "    - Our solution should handle this gracefully.  \n",
    "- However, missing values _in the middle or at the start_ of the time interval are not expected and indicate an invalid input.  \n",
    "    - Our solution should take care of this validation.\n",
    "\n",
    "Define the function `to_ts(df)`. The input `df` can be assumed to have the following characteristics:  \n",
    "- It's columns will be `'Year' 'Jan' 'Feb' 'Mar' 'Apr' 'May' 'Jun' 'Jul' 'Aug' 'Sep' 'Oct' 'Nov' 'Dec'` in that particular order. \n",
    "- All of the \"month\" columns will be type `float64`.\n",
    "- There may be some missing values which will be populated with `np.nan`. \n",
    "- The records will be sorted by the `'Year'` column in ascending order.\n",
    "\n",
    "Your function should return a new Array or `None` by implementing this logic:\n",
    "- Extract the values for the \"month\" columns only into a 2-D array.\n",
    "- Flatten it to a 1-D array such that each data point is in chronological order.\n",
    "- Handle the missing values.\n",
    "    - Identify the index of all missing values in the 1-D array.\n",
    "    - Identify the largest index of a non-missing value in the 1-D array.\n",
    "    - If there are missing values anywhere except the end of the 1-D array, return `None`\n",
    "    - Otherwise, return the 1-D array with the missing values removed from the end."
   ]
  },
  {
   "cell_type": "code",
   "execution_count": null,
   "id": "20bab1fb",
   "metadata": {
    "nbgrader": {
     "grade": false,
     "locked": true,
     "solution": false
    },
    "tags": [
     "demo_data"
    ]
   },
   "outputs": [],
   "source": [
    "### Define demo inputs\n",
    "\n",
    "demo_df_ex2 = \\\n",
    "pd.DataFrame([[2021,261.582,263.014, 264.877, 267.054, 269.195, 271.696, 273.003, 273.567, 274.31, 276.589, 277.948, 278.802],\n",
    "            [2022, 281.148, 283.716, 287.504, 289.109, 292.296, 296.311, 296.276, 296.171, 96.808, 298.012, np.nan, np.nan]], \n",
    "            columns=['Year', 'Jan', 'Feb', 'Mar', 'Apr', 'May', 'Jun', 'Jul', 'Aug', 'Sep', 'Oct', 'Nov', 'Dec'])\n",
    "\n",
    "demo_invalid_df_ex2 = \\\n",
    "pd.DataFrame([[2021,261.582,263.014, np.nan, 267.054, 269.195, 271.696, 273.003, 273.567, 274.31, 276.589, 277.948, 278.802],\n",
    "            [2022, 281.148, 283.716, 287.504, 289.109, 292.296, 296.311, 296.276, 296.171, 96.808, 298.012, np.nan, np.nan]], \n",
    "            columns=['Year', 'Jan', 'Feb', 'Mar', 'Apr', 'May', 'Jun', 'Jul', 'Aug', 'Sep', 'Oct', 'Nov', 'Dec'])"
   ]
  },
  {
   "cell_type": "markdown",
   "id": "4e88ecb9",
   "metadata": {
    "nbgrader": {
     "grade": false,
     "locked": true,
     "solution": false
    },
    "tags": [
     "demo_output_md"
    ]
   },
   "source": [
    "<!-- Expected demo output text block -->\n",
    "The demo included in the solution cell below should display the following output:\n",
    "```\n",
    "Demo output\n",
    "[261.582 263.014 264.877 267.054 269.195 271.696 273.003 273.567 274.31\n",
    " 276.589 277.948 278.802 281.148 283.716 287.504 289.109 292.296 296.311\n",
    " 296.276 296.171  96.808 298.012]\n",
    "\n",
    "Demo handling invalid input\n",
    "None\n",
    "```\n",
    "The demo runs your solution first on a `df` input with missing values only at the end (an array is expected as output). Then runs it on a `df` input with a missing value in the middle (`None` is expected as output). "
   ]
  },
  {
   "cell_type": "code",
   "execution_count": null,
   "id": "2973074b",
   "metadata": {
    "tags": [
     "exercise_solution"
    ]
   },
   "outputs": [],
   "source": [
    "### Exercise 2 solution\n",
    "def to_ts(df):\n",
    "    assert (['Year'] + 'Jan Feb Mar Apr May Jun Jul Aug Sep Oct Nov Dec'.split()) == list(df.columns)\n",
    "    ### YOUR CODE HERE\n",
    "    \n",
    "### demo function call\n",
    "demo_output_ex2 = to_ts(demo_df_ex2)\n",
    "demo_invalid_ex2 = to_ts(demo_invalid_df_ex2)\n",
    "print('Demo output')\n",
    "print(demo_output_ex2)\n",
    "print()\n",
    "print('Demo handling invalid input')\n",
    "print(demo_invalid_ex2)"
   ]
  },
  {
   "cell_type": "markdown",
   "id": "a595c0a4",
   "metadata": {
    "nbgrader": {
     "grade": false,
     "locked": true,
     "solution": false
    },
    "tags": [
     "test_data_boilerplate"
    ]
   },
   "source": [
    "<!-- Test Cell Boilerplate -->\n",
    "The cell below will test your solution for Exercise 2. The testing variables will be available for debugging under the following names in a dictionary format.\n",
    "- `input_vars` - Input variables for your solution. \n",
    "- `original_input_vars` - Copy of input variables from prior to running your solution. These _should_ be the same as `input_vars` - otherwise the inputs were modified by your solution.\n",
    "- `returned_output_vars` - Outputs returned by your solution.\n",
    "- `true_output_vars` - The expected output. This _should_ \"match\" `returned_output_vars` based on the question requirements - otherwise, your solution is not returning the correct output. "
   ]
  },
  {
   "cell_type": "code",
   "execution_count": null,
   "id": "dd9777e8",
   "metadata": {
    "nbgrader": {
     "grade": true,
     "grade_id": "ex2",
     "locked": true,
     "points": "2",
     "solution": false
    },
    "tags": []
   },
   "outputs": [],
   "source": [
    "### test_cell_ex2\n",
    "from tester_fw.testers import Tester\n",
    "\n",
    "conf = {\n",
    "    'case_file':'tc_2', \n",
    "    'func': to_ts, # replace this with the function defined above\n",
    "    'inputs':{ # input config dict. keys are parameter names\n",
    "        'df':{\n",
    "            'dtype':'pd.DataFrame', # data type of param.\n",
    "            'check_modified':True,\n",
    "        }\n",
    "    },\n",
    "    'outputs':{\n",
    "        'output_0':{\n",
    "            'index':0,\n",
    "            'dtype':'np.ndarray',\n",
    "            'check_dtype': True,\n",
    "            'check_col_dtypes': True, # Ignored if dtype is not df\n",
    "            'check_col_order': True, # Ignored if dtype is not df\n",
    "            'check_row_order': True, # Ignored if dtype is not df\n",
    "            'check_column_type': True, # Ignored if dtype is not df\n",
    "            'float_tolerance': 10 ** (-10)\n",
    "        }\n",
    "    }\n",
    "}\n",
    "tester = Tester(conf, key=b'z0BNF11iKYQicR63590bVXZGa19YGvJcmzrbP6R7oAY=', path='')\n",
    "for _ in range(200):\n",
    "    try:\n",
    "        tester.run_test()\n",
    "        (input_vars, original_input_vars, returned_output_vars, true_output_vars) = tester.get_test_vars()\n",
    "    except:\n",
    "        (input_vars, original_input_vars, returned_output_vars, true_output_vars) = tester.get_test_vars()\n",
    "        raise\n",
    "\n",
    "print('Passed! Please submit.')"
   ]
  },
  {
   "cell_type": "markdown",
   "id": "eb85ec41",
   "metadata": {
    "nbgrader": {
     "grade": false,
     "locked": true,
     "solution": false
    },
    "tags": [
     "exercise_text"
    ]
   },
   "source": [
    "## Exercise 3 - (**2** Points):\n",
    "Eventually, we are going to plot some of the time series data, so we will need a date axis to provide context for users. We can extract this from our source DataFrame.\n",
    "\n",
    "Define the function `date_series(df, n)`. The input `df` will have these columns `['Year', 'Jan', 'Feb', 'Mar', 'Apr', 'May', 'Jun', 'Jul', 'Aug', 'Sep', 'Oct', 'Nov', 'Dec']` in that order. Also the `'Year'` column will be sorted in ascending order. We are unconcerned with the values or types in any other columns. The input `n` will be a positive integer smaller than `12*df.shape[0]`.  \n",
    "\n",
    "Your function should return a Pandas Series with dtype of `datetime64` containing the timestamp for midnight on the first day of the first `n` months represented in `df`. The [`pd.to_datetime()`](https://pandas.pydata.org/docs/reference/api/pandas.to_datetime.html) function is useful in converting the dates."
   ]
  },
  {
   "cell_type": "code",
   "execution_count": null,
   "id": "e31b9064",
   "metadata": {
    "nbgrader": {
     "grade": false,
     "locked": true,
     "solution": false
    },
    "tags": [
     "demo_data"
    ]
   },
   "outputs": [],
   "source": [
    "### Define demo inputs\n",
    "demo_df_ex3 = pd.DataFrame(columns=['Year', 'Jan', 'Feb', 'Mar', 'Apr', 'May', 'Jun', 'Jul', 'Aug', 'Sep', 'Oct', 'Nov', 'Dec'])\n",
    "demo_df_ex3['Year'] = [1961, 1962, 1963]\n",
    "demo_n_ex3 = 14\n",
    "display(demo_df_ex3)"
   ]
  },
  {
   "cell_type": "markdown",
   "id": "aafa6da0",
   "metadata": {
    "nbgrader": {
     "grade": false,
     "locked": true,
     "solution": false
    },
    "tags": [
     "demo_output_md"
    ]
   },
   "source": [
    "<!-- Expected demo output text block -->\n",
    "The demo included in the solution cell below should display the following output:\n",
    "```\n",
    "0    1961-01-01\n",
    "1    1961-02-01\n",
    "2    1961-03-01\n",
    "3    1961-04-01\n",
    "4    1961-05-01\n",
    "5    1961-06-01\n",
    "6    1961-07-01\n",
    "7    1961-08-01\n",
    "8    1961-09-01\n",
    "9    1961-10-01\n",
    "10   1961-11-01\n",
    "11   1961-12-01\n",
    "12   1962-01-01\n",
    "13   1962-02-01\n",
    "dtype: datetime64[ns]\n",
    "```\n",
    "Notice that the items are `datetime64` and not strings."
   ]
  },
  {
   "cell_type": "code",
   "execution_count": null,
   "id": "8df43867",
   "metadata": {
    "tags": [
     "exercise_solution"
    ]
   },
   "outputs": [],
   "source": [
    "### Exercise 3 solution\n",
    "def date_series(df, n):\n",
    "    ### YOUR CODE HERE\n",
    "    \n",
    "### demo function call\n",
    "demo_output_ex3 = date_series(demo_df_ex3, demo_n_ex3)\n",
    "demo_output_ex3"
   ]
  },
  {
   "cell_type": "markdown",
   "id": "68938eea",
   "metadata": {
    "nbgrader": {
     "grade": false,
     "locked": true,
     "solution": false
    },
    "tags": [
     "test_data_boilerplate"
    ]
   },
   "source": [
    "<!-- Test Cell Boilerplate -->\n",
    "The cell below will test your solution for Exercise 3. The testing variables will be available for debugging under the following names in a dictionary format.\n",
    "- `input_vars` - Input variables for your solution. \n",
    "- `original_input_vars` - Copy of input variables from prior to running your solution. These _should_ be the same as `input_vars` - otherwise the inputs were modified by your solution.\n",
    "- `returned_output_vars` - Outputs returned by your solution.\n",
    "- `true_output_vars` - The expected output. This _should_ \"match\" `returned_output_vars` based on the question requirements - otherwise, your solution is not returning the correct output. "
   ]
  },
  {
   "cell_type": "code",
   "execution_count": null,
   "id": "4308a542",
   "metadata": {
    "nbgrader": {
     "grade": true,
     "grade_id": "ex3",
     "locked": true,
     "points": "2",
     "solution": false
    },
    "tags": []
   },
   "outputs": [],
   "source": [
    "### test_cell_ex3\n",
    "from tester_fw.testers import Tester\n",
    "\n",
    "conf = {\n",
    "    'case_file':'tc_3', \n",
    "    'func': date_series, # replace this with the function defined above\n",
    "    'inputs':{ # input config dict. keys are parameter names\n",
    "        'df':{\n",
    "            'dtype':'pd.DataFrame', # data type of param.\n",
    "            'check_modified':True,\n",
    "        },\n",
    "        'n':{\n",
    "            'dtype':'int', # data type of param.\n",
    "            'check_modified':False,\n",
    "        }\n",
    "    },\n",
    "    'outputs':{\n",
    "        'output_0':{\n",
    "            'index':0,\n",
    "            'dtype':'pd.Series',\n",
    "            'check_dtype': True,\n",
    "            'check_col_dtypes': True, # Ignored if dtype is not df\n",
    "            'check_col_order': True, # Ignored if dtype is not df\n",
    "            'check_row_order': True, # Ignored if dtype is not df\n",
    "            'check_column_type': True, # Ignored if dtype is not df\n",
    "            'float_tolerance': 10 ** (-6)\n",
    "        }\n",
    "    }\n",
    "}\n",
    "tester = Tester(conf, key=b'z0BNF11iKYQicR63590bVXZGa19YGvJcmzrbP6R7oAY=', path='')\n",
    "for _ in range(70):\n",
    "    try:\n",
    "        tester.run_test()\n",
    "        (input_vars, original_input_vars, returned_output_vars, true_output_vars) = tester.get_test_vars()\n",
    "    except:\n",
    "        (input_vars, original_input_vars, returned_output_vars, true_output_vars) = tester.get_test_vars()\n",
    "        raise\n",
    "\n",
    "print('Passed! Please submit.')"
   ]
  }
 ],
 "metadata": {
  "kernelspec": {
   "display_name": "Python 3 (ipykernel)",
   "language": "python",
   "name": "python3"
  },
  "language_info": {
   "codemirror_mode": {
    "name": "ipython",
    "version": 3
   },
   "file_extension": ".py",
   "mimetype": "text/x-python",
   "name": "python",
   "nbconvert_exporter": "python",
   "pygments_lexer": "ipython3",
   "version": "3.9.13"
  },
  "vscode": {
   "interpreter": {
    "hash": "916dbcbb3f70747c44a77c7bcd40155683ae19c65e1c03b4aa3499c5328201f1"
   }
  }
 },
 "nbformat": 4,
 "nbformat_minor": 5
}
